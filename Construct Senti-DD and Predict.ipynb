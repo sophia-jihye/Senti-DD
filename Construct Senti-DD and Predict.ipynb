{
 "cells": [
  {
   "cell_type": "code",
   "execution_count": 1,
   "metadata": {},
   "outputs": [],
   "source": [
    "import glob, os\n",
    "import pandas as pd\n",
    "from reports import create_confusion_matrix, create_classification_report, average_classification_report, sum_confusion_matrix\n",
    "from lexicons import senti_dd_polarity, lm_polarity, vader_polarity, swn_polarity, textblob_polarity\n",
    "from senti_dd_construction import construct_senti_dd"
   ]
  },
  {
   "cell_type": "code",
   "execution_count": 2,
   "metadata": {},
   "outputs": [],
   "source": [
    "data_dir = './data'\n",
    "# target_data_dir = os.path.join(data_dir, 'FinancialPhrase*', '*') # FPB\n",
    "target_data_dir = os.path.join(data_dir, 'SemEval*', '*') # SemEval\n",
    "\n",
    "train_filepaths = glob.glob(os.path.join(target_data_dir, 'train.csv'))\n",
    "test_filepaths = glob.glob(os.path.join(target_data_dir, 'test.csv'))\n",
    "\n",
    "result_dir = './results'\n",
    "# target_result_dir = os.path.join(result_dir, 'FinancialPhrase*_DS{}*', '*') # FPB\n",
    "target_result_dir = os.path.join(result_dir, 'SemEval*', '*') # SemEval\n",
    "\n",
    "report_filepaths =os.path.join(target_result_dir, 'classification_report_{}.csv')\n",
    "conf_filepaths =os.path.join(target_result_dir, 'confusion_matrix_{}.csv')\n",
    "predictions_filepaths =os.path.join(target_result_dir, 'predictions_{}.csv')"
   ]
  },
  {
   "cell_type": "markdown",
   "metadata": {},
   "source": [
    "Construct Senti-DD"
   ]
  },
  {
   "cell_type": "code",
   "execution_count": null,
   "metadata": {},
   "outputs": [],
   "source": [
    "for train_filepath in train_filepaths:\n",
    "    print('Processing {}..'.format(train_filepath))\n",
    "    dd_filepath = os.path.join(os.path.dirname(train_filepath), 'direction_dependent_entities.csv')\n",
    "    senti_dd_filepath = os.path.join(os.path.dirname(train_filepath), 'Senti-DD.csv')\n",
    "    construct_senti_dd(train_filepath, dd_filepath, senti_dd_filepath)"
   ]
  },
  {
   "cell_type": "markdown",
   "metadata": {},
   "source": [
    "Predict polarity based on lexicons"
   ]
  },
  {
   "cell_type": "code",
   "execution_count": null,
   "metadata": {},
   "outputs": [],
   "source": [
    "lexicons = [(senti_dd_polarity, 'senti-dd'), (lm_polarity, 'lm'), (vader_polarity, 'vader'), (swn_polarity, 'swn'), (textblob_polarity, 'textblob')]\n",
    "for test_filepath in test_filepaths:\n",
    "    for lexicon_func, lexicon_name in lexicons:\n",
    "        print('Processing {} with {}..'.format(test_filepath, lexicon_name))\n",
    "        df_filepath = os.path.join(os.path.dirname(test_filepath), 'predictions_{}.csv')\n",
    "        conf_filepath = os.path.join(os.path.dirname(test_filepath), 'confusion_matrix_{}.csv')\n",
    "        report_filepath = os.path.join(os.path.dirname(test_filepath), 'classification_report_{}.csv')\n",
    "\n",
    "        df = pd.read_csv(test_filepath)\n",
    "\n",
    "        if lexicon_name == 'senti-dd':\n",
    "            senti_dd_filepath = os.path.join(os.path.dirname(test_filepath), 'Senti-DD.csv')\n",
    "            senti_dd = pd.read_csv(senti_dd_filepath)\n",
    "            df['prediction'] = df['headline'].apply(lambda x: senti_dd_polarity(x, senti_dd))\n",
    "        else:         \n",
    "            df['prediction'] = df['headline'].apply(lambda x: lexicon_func(x))\n",
    "        \n",
    "        df['correct'] = df.apply(lambda x: x['label']==x['prediction'], axis=1)\n",
    "        df.to_csv(df_filepath.format(lexicon_name), index=False)\n",
    "\n",
    "        labels, preds = df.label, df.prediction\n",
    "        create_confusion_matrix(labels, preds, conf_filepath.format(lexicon_name))\n",
    "        accuracy = len(df[df['correct']==True]) / len(df)\n",
    "        create_classification_report(labels, preds, accuracy, report_filepath.format(lexicon_name))"
   ]
  }
 ],
 "metadata": {
  "kernelspec": {
   "display_name": "Python 3",
   "language": "python",
   "name": "python3"
  },
  "language_info": {
   "codemirror_mode": {
    "name": "ipython",
    "version": 3
   },
   "file_extension": ".py",
   "mimetype": "text/x-python",
   "name": "python",
   "nbconvert_exporter": "python",
   "pygments_lexer": "ipython3",
   "version": "3.6.13"
  }
 },
 "nbformat": 4,
 "nbformat_minor": 2
}
