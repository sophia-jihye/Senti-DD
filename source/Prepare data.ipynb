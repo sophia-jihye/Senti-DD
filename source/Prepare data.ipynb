{
 "cells": [
  {
   "cell_type": "code",
   "execution_count": 1,
   "metadata": {
    "collapsed": true
   },
   "outputs": [],
   "source": [
    "import os\n",
    "import pandas as pd\n",
    "from sklearn.utils import shuffle\n",
    "from sklearn.model_selection import StratifiedKFold"
   ]
  },
  {
   "cell_type": "code",
   "execution_count": 2,
   "metadata": {
    "collapsed": true
   },
   "outputs": [],
   "source": [
    "DATA_DIR = '/media/dmlab/My Passport/DATA'\n",
    "FINANCIAL_PHRASE_BANK_FILEPATH = os.path.join(DATA_DIR, 'BenchmarkDataset', 'FinancialPhraseBank-v1.0', 'Sentenes_FourAgree.csv')\n",
    "SEMEVAL_FILEPATH = os.path.join(DATA_DIR, 'BenchmarkDataset', 'ssix-project-semeval-2017-task-5-subtask-2', 'Headline_Trainingdata.csv')\n",
    "FIQA_FILEPATH = os.path.join(DATA_DIR, 'BenchmarkDataset', 'FiQA_ABSA_task1', 'task1_headline_ABSA_train.csv')\n",
    "\n",
    "SAVE_DIR = os.path.join(DATA_DIR, 'research-notes', 'lexicon')\n",
    "FINANCIAL_PHRASE_BANK_SAVE_DIR = os.path.join(SAVE_DIR, 'FinancialPhraseBank_DS{} (k-folds)')\n",
    "SEMEVAL_SAVE_DIR = os.path.join(SAVE_DIR, 'SemEval-test (FPB-train)')\n",
    "FIQA_SAVE_DIR = os.path.join(SAVE_DIR, 'FiQA-test (FPB-train)')"
   ]
  },
  {
   "cell_type": "code",
   "execution_count": 5,
   "metadata": {
    "collapsed": true
   },
   "outputs": [],
   "source": [
    "def score_to_polarity(score: float = None):\n",
    "    if score > 0: return 'positive'\n",
    "    elif score < 0: return 'negative'\n",
    "    else: return' neutral'\n",
    "    \n",
    "def load_fpb(financial_phrase_bank_filepath, agreement_level):\n",
    "    df = pd.read_csv(financial_phrase_bank_filepath)\n",
    "    df = df[df['agreement']==agreement_level]\n",
    "\n",
    "    df.drop(columns=['agreement'], inplace=True)\n",
    "    df.columns = ['headline', 'label']\n",
    "    return df\n",
    "\n",
    "def load_semeval(semeval_filepath):\n",
    "    df = pd.read_csv(semeval_filepath)\n",
    "\n",
    "    df.drop(columns=['company'], inplace=True)\n",
    "    df['sentiment'] = df['sentiment'].apply(lambda x: score_to_polarity(x))\n",
    "    df.columns = ['headline', 'label']\n",
    "    return df\n",
    "\n",
    "def load_fiqa(fiqa_filepath):\n",
    "    df = pd.read_csv(fiqa_filepath)\n",
    "\n",
    "    df.drop(columns=['target', 'aspects'], inplace=True)\n",
    "    df['sentiment'] = df['sentiment'].apply(lambda x: score_to_polarity(x))\n",
    "    df.columns = ['headline', 'label']\n",
    "    return df\n",
    "\n",
    "def prepare_k_fold(df, y, save_dir, k):\n",
    "    \"\"\"\n",
    "    k-fold cross validation을 할 수 있도록 train, test dataframe으로 알맞게 분리 후 저장하는 함수\n",
    "    :param data_csv_filepath: 전처리 완료된 csv 파일경로\n",
    "    \"\"\"\n",
    "    df = shuffle(df)\n",
    "    kf = StratifiedKFold(n_splits=k)\n",
    "    for i, (train_index, test_index) in enumerate(kf.split(df, y)):\n",
    "        save_dir_k = os.path.join(save_dir, 'fold={}'.format(i))\n",
    "        if not os.path.exists(save_dir_k): os.makedirs(save_dir_k)\n",
    "        \n",
    "        train_df = df.iloc[train_index]\n",
    "        filepath = os.path.join(save_dir_k, 'train.csv')\n",
    "        train_df.to_csv(filepath, index=False)\n",
    "        \n",
    "        test_df = df.iloc[test_index]\n",
    "        filepath = os.path.join(save_dir_k, 'test.csv')\n",
    "        test_df.to_csv(filepath, index=False)"
   ]
  },
  {
   "cell_type": "code",
   "execution_count": 6,
   "metadata": {
    "collapsed": false
   },
   "outputs": [],
   "source": [
    "for ds in ['50', '66', '75', 'All']:\n",
    "    df = load_fpb(FINANCIAL_PHRASE_BANK_FILEPATH, ds)\n",
    "    prepare_k_fold(df, df.label.values, FINANCIAL_PHRASE_BANK_SAVE_DIR.format(ds), 5)\n",
    "\n",
    "if not os.path.exists(SEMEVAL_SAVE_DIR): os.makedirs(SEMEVAL_SAVE_DIR)\n",
    "df = load_fpb(FINANCIAL_PHRASE_BANK_FILEPATH, '50')\n",
    "df.to_csv(os.path.join(SEMEVAL_SAVE_DIR, 'train.csv'), index=False)\n",
    "df = load_semeval(SEMEVAL_FILEPATH)\n",
    "df.to_csv(os.path.join(SEMEVAL_SAVE_DIR, 'test.csv'), index=False)\n",
    "\n",
    "if not os.path.exists(FIQA_SAVE_DIR): os.makedirs(FIQA_SAVE_DIR)\n",
    "df = load_fpb(FINANCIAL_PHRASE_BANK_FILEPATH, '50')\n",
    "df.to_csv(os.path.join(FIQA_SAVE_DIR, 'train.csv'), index=False)\n",
    "df = load_fiqa(FIQA_FILEPATH)\n",
    "df.to_csv(os.path.join(FIQA_SAVE_DIR, 'test.csv'), index=False)"
   ]
  }
 ],
 "metadata": {
  "kernelspec": {
   "display_name": "Python 3",
   "language": "python",
   "name": "python3"
  },
  "language_info": {
   "codemirror_mode": {
    "name": "ipython",
    "version": 3
   },
   "file_extension": ".py",
   "mimetype": "text/x-python",
   "name": "python",
   "nbconvert_exporter": "python",
   "pygments_lexer": "ipython3",
   "version": "3.6.9"
  }
 },
 "nbformat": 4,
 "nbformat_minor": 2
}
