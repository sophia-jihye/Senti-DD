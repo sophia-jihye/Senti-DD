{
 "cells": [
  {
   "cell_type": "code",
   "execution_count": 1,
   "metadata": {
    "collapsed": false
   },
   "outputs": [],
   "source": [
    "import glob, os\n",
    "import pandas as pd\n",
    "from reports import create_confusion_matrix, create_classification_report, average_classification_report, sum_confusion_matrix\n",
    "from lexicons import senti_dd_polarity, lm_polarity, vader_polarity, swn_polarity, textblob_polarity\n",
    "from senti_dd_construction import construct_senti_dd"
   ]
  },
  {
   "cell_type": "code",
   "execution_count": 2,
   "metadata": {
    "collapsed": false
   },
   "outputs": [],
   "source": [
    "DATA_DIR = '/media/dmlab/My Passport/DATA/research-notes/lexicon'\n",
    "FPB_TRAIN_FILEPATHS = glob.glob(os.path.join(DATA_DIR, 'FinancialPhrase*', '*', 'train.csv'))\n",
    "SEMEVAL_TRAIN_FILEPATH = os.path.join(DATA_DIR, 'SemEval-test (FPB-train)', 'train.csv')\n",
    "FIQA_TRAIN_FILEPATH = os.path.join(DATA_DIR, 'FiQA-test (FPB-train)', 'train.csv')\n",
    "FPB_TEST_FILEPATHS = glob.glob(os.path.join(DATA_DIR, 'FinancialPhrase*', '*', 'test.csv'))\n",
    "SEMEVAL_TEST_FILEPATH = os.path.join(DATA_DIR, 'SemEval-test (FPB-train)', 'test.csv')\n",
    "FIQA_TEST_FILEPATH = os.path.join(DATA_DIR, 'FiQA-test (FPB-train)', 'test.csv')\n",
    "\n",
    "FPB_REPORT_FILEPATHS =os.path.join(DATA_DIR, 'FinancialPhrase*_DS{}*', '*', 'classification_report_{}.csv')\n",
    "FPB_CONF_FILEPATHS =os.path.join(DATA_DIR, 'FinancialPhrase*_DS{}*', '*', 'confusion_matrix_{}.csv')\n",
    "FPB_PREDICTIONS_FILEPATHS =os.path.join(DATA_DIR, 'FinancialPhrase*_DS{}*', '*', 'predictions_{}.csv')"
   ]
  },
  {
   "cell_type": "markdown",
   "metadata": {},
   "source": [
    "Construct Senti-DD"
   ]
  },
  {
   "cell_type": "code",
   "execution_count": null,
   "metadata": {
    "collapsed": false
   },
   "outputs": [],
   "source": [
    "filepaths = FPB_TRAIN_FILEPATHS\n",
    "filepaths.extend([SEMEVAL_TRAIN_FILEPATH, FIQA_TRAIN_FILEPATH])\n",
    "for train_filepath in filepaths:\n",
    "    print('Processing {}..'.format(train_filepath))\n",
    "    dd_filepath = os.path.join(os.path.dirname(train_filepath), 'direction_dependent_entities.csv')\n",
    "    senti_dd_filepath = os.path.join(os.path.dirname(train_filepath), 'Senti-DD.csv')\n",
    "    construct_senti_dd(train_filepath, dd_filepath, senti_dd_filepath)"
   ]
  },
  {
   "cell_type": "markdown",
   "metadata": {},
   "source": [
    "Predict polarity based on lexicons"
   ]
  },
  {
   "cell_type": "code",
   "execution_count": null,
   "metadata": {
    "collapsed": false
   },
   "outputs": [],
   "source": [
    "filepaths = FPB_TEST_FILEPATHS\n",
    "filepaths.extend([SEMEVAL_TEST_FILEPATH, FIQA_TEST_FILEPATH])\n",
    "lexicons = [(senti_dd_polarity, 'senti-dd'), (lm_polarity, 'lm'), (vader_polarity, 'vader'), (swn_polarity, 'swn'), (textblob_polarity, 'textblob')]\n",
    "for test_filepath in filepaths:\n",
    "    for lexicon_func, lexicon_name in lexicons:\n",
    "        print('Processing {} with {}..'.format(test_filepath, lexicon_name))\n",
    "        df_filepath = os.path.join(os.path.dirname(test_filepath), 'predictions_{}.csv')\n",
    "        conf_filepath = os.path.join(os.path.dirname(test_filepath), 'confusion_matrix_{}.csv')\n",
    "        report_filepath = os.path.join(os.path.dirname(test_filepath), 'classification_report_{}.csv')\n",
    "\n",
    "        df = pd.read_csv(test_filepath)\n",
    "\n",
    "        if lexicon_name == 'senti-dd':\n",
    "            senti_dd_filepath = os.path.join(os.path.dirname(test_filepath), 'Senti-DD.csv')\n",
    "            senti_dd = pd.read_csv(senti_dd_filepath)\n",
    "            df['prediction'] = df['headline'].apply(lambda x: senti_dd_polarity(x, senti_dd))\n",
    "        else:         \n",
    "            df['prediction'] = df['headline'].apply(lambda x: lexicon_func(x))\n",
    "        \n",
    "        df['correct'] = df.apply(lambda x: x['label']==x['prediction'], axis=1)\n",
    "        df.to_csv(df_filepath.format(lexicon_name), index=False)\n",
    "\n",
    "        labels, preds = df.label, df.prediction\n",
    "        create_confusion_matrix(labels, preds, conf_filepath.format(lexicon_name))\n",
    "        accuracy = len(df[df['correct']==True]) / len(df)\n",
    "        create_classification_report(labels, preds, accuracy, report_filepath.format(lexicon_name))"
   ]
  },
  {
   "cell_type": "markdown",
   "metadata": {},
   "source": [
    "Average results for k-folds"
   ]
  },
  {
   "cell_type": "code",
   "execution_count": 5,
   "metadata": {
    "collapsed": false
   },
   "outputs": [
    {
     "name": "stdout",
     "output_type": "stream",
     "text": [
      "Created /media/dmlab/My Passport/DATA/research-notes/lexicon/FinancialPhraseBank_DS50 (k-folds)/classification_report_senti-dd.csv\n",
      "Created /media/dmlab/My Passport/DATA/research-notes/lexicon/FinancialPhraseBank_DS50 (k-folds)/confusion_matrix_senti-dd.csv\n",
      "Created /media/dmlab/My Passport/DATA/research-notes/lexicon/FinancialPhraseBank_DS50 (k-folds)/predictions_senti-dd.csv\n",
      "Created /media/dmlab/My Passport/DATA/research-notes/lexicon/FinancialPhraseBank_DS50 (k-folds)/classification_report_lm.csv\n",
      "Created /media/dmlab/My Passport/DATA/research-notes/lexicon/FinancialPhraseBank_DS50 (k-folds)/confusion_matrix_lm.csv\n",
      "Created /media/dmlab/My Passport/DATA/research-notes/lexicon/FinancialPhraseBank_DS50 (k-folds)/predictions_lm.csv\n",
      "Created /media/dmlab/My Passport/DATA/research-notes/lexicon/FinancialPhraseBank_DS50 (k-folds)/classification_report_vader.csv\n",
      "Created /media/dmlab/My Passport/DATA/research-notes/lexicon/FinancialPhraseBank_DS50 (k-folds)/confusion_matrix_vader.csv\n",
      "Created /media/dmlab/My Passport/DATA/research-notes/lexicon/FinancialPhraseBank_DS50 (k-folds)/predictions_vader.csv\n",
      "Created /media/dmlab/My Passport/DATA/research-notes/lexicon/FinancialPhraseBank_DS50 (k-folds)/classification_report_swn.csv\n",
      "Created /media/dmlab/My Passport/DATA/research-notes/lexicon/FinancialPhraseBank_DS50 (k-folds)/confusion_matrix_swn.csv\n",
      "Created /media/dmlab/My Passport/DATA/research-notes/lexicon/FinancialPhraseBank_DS50 (k-folds)/predictions_swn.csv\n",
      "Created /media/dmlab/My Passport/DATA/research-notes/lexicon/FinancialPhraseBank_DS50 (k-folds)/classification_report_textblob.csv\n",
      "Created /media/dmlab/My Passport/DATA/research-notes/lexicon/FinancialPhraseBank_DS50 (k-folds)/confusion_matrix_textblob.csv\n",
      "Created /media/dmlab/My Passport/DATA/research-notes/lexicon/FinancialPhraseBank_DS50 (k-folds)/predictions_textblob.csv\n",
      "Created /media/dmlab/My Passport/DATA/research-notes/lexicon/FinancialPhraseBank_DS66 (k-folds)/classification_report_senti-dd.csv\n",
      "Created /media/dmlab/My Passport/DATA/research-notes/lexicon/FinancialPhraseBank_DS66 (k-folds)/confusion_matrix_senti-dd.csv\n",
      "Created /media/dmlab/My Passport/DATA/research-notes/lexicon/FinancialPhraseBank_DS66 (k-folds)/predictions_senti-dd.csv\n",
      "Created /media/dmlab/My Passport/DATA/research-notes/lexicon/FinancialPhraseBank_DS66 (k-folds)/classification_report_lm.csv\n",
      "Created /media/dmlab/My Passport/DATA/research-notes/lexicon/FinancialPhraseBank_DS66 (k-folds)/confusion_matrix_lm.csv\n",
      "Created /media/dmlab/My Passport/DATA/research-notes/lexicon/FinancialPhraseBank_DS66 (k-folds)/predictions_lm.csv\n",
      "Created /media/dmlab/My Passport/DATA/research-notes/lexicon/FinancialPhraseBank_DS66 (k-folds)/classification_report_vader.csv\n",
      "Created /media/dmlab/My Passport/DATA/research-notes/lexicon/FinancialPhraseBank_DS66 (k-folds)/confusion_matrix_vader.csv\n",
      "Created /media/dmlab/My Passport/DATA/research-notes/lexicon/FinancialPhraseBank_DS66 (k-folds)/predictions_vader.csv\n",
      "Created /media/dmlab/My Passport/DATA/research-notes/lexicon/FinancialPhraseBank_DS66 (k-folds)/classification_report_swn.csv\n",
      "Created /media/dmlab/My Passport/DATA/research-notes/lexicon/FinancialPhraseBank_DS66 (k-folds)/confusion_matrix_swn.csv\n",
      "Created /media/dmlab/My Passport/DATA/research-notes/lexicon/FinancialPhraseBank_DS66 (k-folds)/predictions_swn.csv\n",
      "Created /media/dmlab/My Passport/DATA/research-notes/lexicon/FinancialPhraseBank_DS66 (k-folds)/classification_report_textblob.csv\n",
      "Created /media/dmlab/My Passport/DATA/research-notes/lexicon/FinancialPhraseBank_DS66 (k-folds)/confusion_matrix_textblob.csv\n",
      "Created /media/dmlab/My Passport/DATA/research-notes/lexicon/FinancialPhraseBank_DS66 (k-folds)/predictions_textblob.csv\n",
      "Created /media/dmlab/My Passport/DATA/research-notes/lexicon/FinancialPhraseBank_DS75 (k-folds)/classification_report_senti-dd.csv\n",
      "Created /media/dmlab/My Passport/DATA/research-notes/lexicon/FinancialPhraseBank_DS75 (k-folds)/confusion_matrix_senti-dd.csv\n",
      "Created /media/dmlab/My Passport/DATA/research-notes/lexicon/FinancialPhraseBank_DS75 (k-folds)/predictions_senti-dd.csv\n",
      "Created /media/dmlab/My Passport/DATA/research-notes/lexicon/FinancialPhraseBank_DS75 (k-folds)/classification_report_lm.csv\n",
      "Created /media/dmlab/My Passport/DATA/research-notes/lexicon/FinancialPhraseBank_DS75 (k-folds)/confusion_matrix_lm.csv\n",
      "Created /media/dmlab/My Passport/DATA/research-notes/lexicon/FinancialPhraseBank_DS75 (k-folds)/predictions_lm.csv\n",
      "Created /media/dmlab/My Passport/DATA/research-notes/lexicon/FinancialPhraseBank_DS75 (k-folds)/classification_report_vader.csv\n",
      "Created /media/dmlab/My Passport/DATA/research-notes/lexicon/FinancialPhraseBank_DS75 (k-folds)/confusion_matrix_vader.csv\n",
      "Created /media/dmlab/My Passport/DATA/research-notes/lexicon/FinancialPhraseBank_DS75 (k-folds)/predictions_vader.csv\n",
      "Created /media/dmlab/My Passport/DATA/research-notes/lexicon/FinancialPhraseBank_DS75 (k-folds)/classification_report_swn.csv\n",
      "Created /media/dmlab/My Passport/DATA/research-notes/lexicon/FinancialPhraseBank_DS75 (k-folds)/confusion_matrix_swn.csv\n",
      "Created /media/dmlab/My Passport/DATA/research-notes/lexicon/FinancialPhraseBank_DS75 (k-folds)/predictions_swn.csv\n",
      "Created /media/dmlab/My Passport/DATA/research-notes/lexicon/FinancialPhraseBank_DS75 (k-folds)/classification_report_textblob.csv\n",
      "Created /media/dmlab/My Passport/DATA/research-notes/lexicon/FinancialPhraseBank_DS75 (k-folds)/confusion_matrix_textblob.csv\n",
      "Created /media/dmlab/My Passport/DATA/research-notes/lexicon/FinancialPhraseBank_DS75 (k-folds)/predictions_textblob.csv\n",
      "Created /media/dmlab/My Passport/DATA/research-notes/lexicon/FinancialPhraseBank_DSAll (k-folds)/classification_report_senti-dd.csv\n",
      "Created /media/dmlab/My Passport/DATA/research-notes/lexicon/FinancialPhraseBank_DSAll (k-folds)/confusion_matrix_senti-dd.csv\n",
      "Created /media/dmlab/My Passport/DATA/research-notes/lexicon/FinancialPhraseBank_DSAll (k-folds)/predictions_senti-dd.csv\n",
      "Created /media/dmlab/My Passport/DATA/research-notes/lexicon/FinancialPhraseBank_DSAll (k-folds)/classification_report_lm.csv\n",
      "Created /media/dmlab/My Passport/DATA/research-notes/lexicon/FinancialPhraseBank_DSAll (k-folds)/confusion_matrix_lm.csv\n",
      "Created /media/dmlab/My Passport/DATA/research-notes/lexicon/FinancialPhraseBank_DSAll (k-folds)/predictions_lm.csv\n",
      "Created /media/dmlab/My Passport/DATA/research-notes/lexicon/FinancialPhraseBank_DSAll (k-folds)/classification_report_vader.csv\n",
      "Created /media/dmlab/My Passport/DATA/research-notes/lexicon/FinancialPhraseBank_DSAll (k-folds)/confusion_matrix_vader.csv\n",
      "Created /media/dmlab/My Passport/DATA/research-notes/lexicon/FinancialPhraseBank_DSAll (k-folds)/predictions_vader.csv\n",
      "Created /media/dmlab/My Passport/DATA/research-notes/lexicon/FinancialPhraseBank_DSAll (k-folds)/classification_report_swn.csv\n",
      "Created /media/dmlab/My Passport/DATA/research-notes/lexicon/FinancialPhraseBank_DSAll (k-folds)/confusion_matrix_swn.csv\n",
      "Created /media/dmlab/My Passport/DATA/research-notes/lexicon/FinancialPhraseBank_DSAll (k-folds)/predictions_swn.csv\n",
      "Created /media/dmlab/My Passport/DATA/research-notes/lexicon/FinancialPhraseBank_DSAll (k-folds)/classification_report_textblob.csv\n",
      "Created /media/dmlab/My Passport/DATA/research-notes/lexicon/FinancialPhraseBank_DSAll (k-folds)/confusion_matrix_textblob.csv\n",
      "Created /media/dmlab/My Passport/DATA/research-notes/lexicon/FinancialPhraseBank_DSAll (k-folds)/predictions_textblob.csv\n"
     ]
    }
   ],
   "source": [
    "def concat_dfs(df_filepaths, out_filepath):\n",
    "    dfs = []\n",
    "    for i, df_filepath in enumerate(df_filepaths):\n",
    "        df = pd.read_csv(df_filepath, header=0)\n",
    "        dfs.append(df)\n",
    "    concat_df = pd.concat(dfs)\n",
    "    concat_df.to_csv(out_filepath, index=False)\n",
    "    print('Created {}'.format(out_filepath))\n",
    "    return concat_df\n",
    "    \n",
    "ds_list = ['50', '66', '75', 'All']\n",
    "lexicon_names = ['senti-dd', 'lm', 'vader', 'swn', 'textblob']\n",
    "\n",
    "for ds in ds_list:\n",
    "    for lexicon_name in lexicon_names:\n",
    "        report_filepaths = glob.glob(FPB_REPORT_FILEPATHS.format(ds, lexicon_name))\n",
    "        out_dir = os.path.dirname(os.path.dirname(report_filepaths[0]))\n",
    "        average_classification_report(report_filepaths, os.path.join(out_dir, 'classification_report_{}.csv'.format(lexicon_name)))\n",
    "        \n",
    "        conf_filepaths = glob.glob(FPB_CONF_FILEPATHS.format(ds, lexicon_name))\n",
    "        sum_confusion_matrix(conf_filepaths, os.path.join(out_dir, 'confusion_matrix_{}.csv'.format(lexicon_name)))\n",
    "        \n",
    "        df_filepaths = glob.glob(FPB_PREDICTIONS_FILEPATHS.format(ds, lexicon_name))\n",
    "        concat_dfs(df_filepaths,os.path.join(out_dir, 'predictions_{}.csv'.format(lexicon_name)))"
   ]
  }
 ],
 "metadata": {
  "kernelspec": {
   "display_name": "Python 3",
   "language": "python",
   "name": "python3"
  },
  "language_info": {
   "codemirror_mode": {
    "name": "ipython",
    "version": 3
   },
   "file_extension": ".py",
   "mimetype": "text/x-python",
   "name": "python",
   "nbconvert_exporter": "python",
   "pygments_lexer": "ipython3",
   "version": "3.6.10"
  }
 },
 "nbformat": 4,
 "nbformat_minor": 2
}
