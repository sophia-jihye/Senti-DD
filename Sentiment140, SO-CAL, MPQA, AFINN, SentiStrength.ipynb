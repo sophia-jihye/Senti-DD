{
 "cells": [
  {
   "cell_type": "code",
   "execution_count": 1,
   "metadata": {},
   "outputs": [
    {
     "name": "stderr",
     "output_type": "stream",
     "text": [
      "[nltk_data] Downloading package vader_lexicon to\n",
      "[nltk_data]     /home/dmlab/nltk_data...\n",
      "[nltk_data]   Package vader_lexicon is already up-to-date!\n"
     ]
    }
   ],
   "source": [
    "import os\n",
    "import glob\n",
    "from tqdm import tqdm\n",
    "tqdm.pandas()\n",
    "import pandas as pd\n",
    "from reports import create_confusion_matrix, create_classification_report, average_classification_report, sum_confusion_matrix\n",
    "from lexicons import afinn_polarity, sentistrength_polarity, mpqa_polarity, socal_polarity, sentiment140_polarity"
   ]
  },
  {
   "cell_type": "code",
   "execution_count": 2,
   "metadata": {},
   "outputs": [],
   "source": [
    "root_dir = './data' \n",
    "train_filepaths = sorted(glob.glob(os.path.join(root_dir, 'FinancialPhrase*', '*', 'train.csv')))"
   ]
  },
  {
   "cell_type": "markdown",
   "metadata": {},
   "source": [
    "Predict polarity based on lexicons"
   ]
  },
  {
   "cell_type": "code",
   "execution_count": 3,
   "metadata": {},
   "outputs": [
    {
     "name": "stderr",
     "output_type": "stream",
     "text": [
      "100%|██████████| 968/968 [00:00<00:00, 5568.31it/s]\n"
     ]
    },
    {
     "name": "stdout",
     "output_type": "stream",
     "text": [
      "Created ./results/FinancialPhraseBank_DS50_k-folds/fold=0/confusion_matrix_Sen140.csv\n",
      "Created ./results/FinancialPhraseBank_DS50_k-folds/fold=0/classification_report_Sen140.csv\n"
     ]
    },
    {
     "name": "stderr",
     "output_type": "stream",
     "text": [
      "100%|██████████| 968/968 [00:00<00:00, 6176.01it/s]\n"
     ]
    },
    {
     "name": "stdout",
     "output_type": "stream",
     "text": [
      "Created ./results/FinancialPhraseBank_DS50_k-folds/fold=1/confusion_matrix_Sen140.csv\n",
      "Created ./results/FinancialPhraseBank_DS50_k-folds/fold=1/classification_report_Sen140.csv\n"
     ]
    },
    {
     "name": "stderr",
     "output_type": "stream",
     "text": [
      "100%|██████████| 967/967 [00:00<00:00, 6592.45it/s]\n"
     ]
    },
    {
     "name": "stdout",
     "output_type": "stream",
     "text": [
      "Created ./results/FinancialPhraseBank_DS50_k-folds/fold=2/confusion_matrix_Sen140.csv\n",
      "Created ./results/FinancialPhraseBank_DS50_k-folds/fold=2/classification_report_Sen140.csv\n"
     ]
    },
    {
     "name": "stderr",
     "output_type": "stream",
     "text": [
      "100%|██████████| 967/967 [00:00<00:00, 6613.02it/s]\n"
     ]
    },
    {
     "name": "stdout",
     "output_type": "stream",
     "text": [
      "Created ./results/FinancialPhraseBank_DS50_k-folds/fold=3/confusion_matrix_Sen140.csv\n",
      "Created ./results/FinancialPhraseBank_DS50_k-folds/fold=3/classification_report_Sen140.csv\n"
     ]
    },
    {
     "name": "stderr",
     "output_type": "stream",
     "text": [
      "100%|██████████| 965/965 [00:00<00:00, 6354.75it/s]\n"
     ]
    },
    {
     "name": "stdout",
     "output_type": "stream",
     "text": [
      "Created ./results/FinancialPhraseBank_DS50_k-folds/fold=4/confusion_matrix_Sen140.csv\n",
      "Created ./results/FinancialPhraseBank_DS50_k-folds/fold=4/classification_report_Sen140.csv\n"
     ]
    },
    {
     "name": "stderr",
     "output_type": "stream",
     "text": [
      "100%|██████████| 843/843 [00:00<00:00, 6649.35it/s]\n"
     ]
    },
    {
     "name": "stdout",
     "output_type": "stream",
     "text": [
      "Created ./results/FinancialPhraseBank_DS66_k-folds/fold=0/confusion_matrix_Sen140.csv\n",
      "Created ./results/FinancialPhraseBank_DS66_k-folds/fold=0/classification_report_Sen140.csv\n"
     ]
    },
    {
     "name": "stderr",
     "output_type": "stream",
     "text": [
      "100%|██████████| 843/843 [00:00<00:00, 6708.93it/s]\n"
     ]
    },
    {
     "name": "stdout",
     "output_type": "stream",
     "text": [
      "Created ./results/FinancialPhraseBank_DS66_k-folds/fold=1/confusion_matrix_Sen140.csv\n",
      "Created ./results/FinancialPhraseBank_DS66_k-folds/fold=1/classification_report_Sen140.csv\n"
     ]
    },
    {
     "name": "stderr",
     "output_type": "stream",
     "text": [
      "100%|██████████| 842/842 [00:00<00:00, 6733.68it/s]\n"
     ]
    },
    {
     "name": "stdout",
     "output_type": "stream",
     "text": [
      "Created ./results/FinancialPhraseBank_DS66_k-folds/fold=2/confusion_matrix_Sen140.csv\n",
      "Created ./results/FinancialPhraseBank_DS66_k-folds/fold=2/classification_report_Sen140.csv\n"
     ]
    },
    {
     "name": "stderr",
     "output_type": "stream",
     "text": [
      "100%|██████████| 841/841 [00:00<00:00, 6722.69it/s]\n"
     ]
    },
    {
     "name": "stdout",
     "output_type": "stream",
     "text": [
      "Created ./results/FinancialPhraseBank_DS66_k-folds/fold=3/confusion_matrix_Sen140.csv\n",
      "Created ./results/FinancialPhraseBank_DS66_k-folds/fold=3/classification_report_Sen140.csv\n"
     ]
    },
    {
     "name": "stderr",
     "output_type": "stream",
     "text": [
      "100%|██████████| 840/840 [00:00<00:00, 6666.58it/s]\n"
     ]
    },
    {
     "name": "stdout",
     "output_type": "stream",
     "text": [
      "Created ./results/FinancialPhraseBank_DS66_k-folds/fold=4/confusion_matrix_Sen140.csv\n",
      "Created ./results/FinancialPhraseBank_DS66_k-folds/fold=4/classification_report_Sen140.csv\n"
     ]
    },
    {
     "name": "stderr",
     "output_type": "stream",
     "text": [
      "100%|██████████| 690/690 [00:00<00:00, 6692.25it/s]\n"
     ]
    },
    {
     "name": "stdout",
     "output_type": "stream",
     "text": [
      "Created ./results/FinancialPhraseBank_DS75_k-folds/fold=0/confusion_matrix_Sen140.csv\n",
      "Created ./results/FinancialPhraseBank_DS75_k-folds/fold=0/classification_report_Sen140.csv\n"
     ]
    },
    {
     "name": "stderr",
     "output_type": "stream",
     "text": [
      "100%|██████████| 690/690 [00:00<00:00, 6760.93it/s]\n"
     ]
    },
    {
     "name": "stdout",
     "output_type": "stream",
     "text": [
      "Created ./results/FinancialPhraseBank_DS75_k-folds/fold=1/confusion_matrix_Sen140.csv\n",
      "Created ./results/FinancialPhraseBank_DS75_k-folds/fold=1/classification_report_Sen140.csv\n"
     ]
    },
    {
     "name": "stderr",
     "output_type": "stream",
     "text": [
      "100%|██████████| 689/689 [00:00<00:00, 6691.39it/s]\n"
     ]
    },
    {
     "name": "stdout",
     "output_type": "stream",
     "text": [
      "Created ./results/FinancialPhraseBank_DS75_k-folds/fold=2/confusion_matrix_Sen140.csv\n",
      "Created ./results/FinancialPhraseBank_DS75_k-folds/fold=2/classification_report_Sen140.csv\n"
     ]
    },
    {
     "name": "stderr",
     "output_type": "stream",
     "text": [
      "100%|██████████| 689/689 [00:00<00:00, 6704.10it/s]\n"
     ]
    },
    {
     "name": "stdout",
     "output_type": "stream",
     "text": [
      "Created ./results/FinancialPhraseBank_DS75_k-folds/fold=3/confusion_matrix_Sen140.csv\n",
      "Created ./results/FinancialPhraseBank_DS75_k-folds/fold=3/classification_report_Sen140.csv\n"
     ]
    },
    {
     "name": "stderr",
     "output_type": "stream",
     "text": [
      "100%|██████████| 689/689 [00:00<00:00, 6684.54it/s]\n"
     ]
    },
    {
     "name": "stdout",
     "output_type": "stream",
     "text": [
      "Created ./results/FinancialPhraseBank_DS75_k-folds/fold=4/confusion_matrix_Sen140.csv\n",
      "Created ./results/FinancialPhraseBank_DS75_k-folds/fold=4/classification_report_Sen140.csv\n"
     ]
    },
    {
     "name": "stderr",
     "output_type": "stream",
     "text": [
      "100%|██████████| 453/453 [00:00<00:00, 6764.65it/s]\n"
     ]
    },
    {
     "name": "stdout",
     "output_type": "stream",
     "text": [
      "Created ./results/FinancialPhraseBank_DSAll_k-folds/fold=0/confusion_matrix_Sen140.csv\n",
      "Created ./results/FinancialPhraseBank_DSAll_k-folds/fold=0/classification_report_Sen140.csv\n"
     ]
    },
    {
     "name": "stderr",
     "output_type": "stream",
     "text": [
      "100%|██████████| 452/452 [00:00<00:00, 6712.83it/s]\n"
     ]
    },
    {
     "name": "stdout",
     "output_type": "stream",
     "text": [
      "Created ./results/FinancialPhraseBank_DSAll_k-folds/fold=1/confusion_matrix_Sen140.csv\n",
      "Created ./results/FinancialPhraseBank_DSAll_k-folds/fold=1/classification_report_Sen140.csv\n"
     ]
    },
    {
     "name": "stderr",
     "output_type": "stream",
     "text": [
      "100%|██████████| 452/452 [00:00<00:00, 6713.33it/s]\n"
     ]
    },
    {
     "name": "stdout",
     "output_type": "stream",
     "text": [
      "Created ./results/FinancialPhraseBank_DSAll_k-folds/fold=2/confusion_matrix_Sen140.csv\n",
      "Created ./results/FinancialPhraseBank_DSAll_k-folds/fold=2/classification_report_Sen140.csv\n"
     ]
    },
    {
     "name": "stderr",
     "output_type": "stream",
     "text": [
      "100%|██████████| 451/451 [00:00<00:00, 7010.87it/s]\n"
     ]
    },
    {
     "name": "stdout",
     "output_type": "stream",
     "text": [
      "Created ./results/FinancialPhraseBank_DSAll_k-folds/fold=3/confusion_matrix_Sen140.csv\n",
      "Created ./results/FinancialPhraseBank_DSAll_k-folds/fold=3/classification_report_Sen140.csv\n"
     ]
    },
    {
     "name": "stderr",
     "output_type": "stream",
     "text": [
      "100%|██████████| 451/451 [00:00<00:00, 6947.14it/s]\n"
     ]
    },
    {
     "name": "stdout",
     "output_type": "stream",
     "text": [
      "Created ./results/FinancialPhraseBank_DSAll_k-folds/fold=4/confusion_matrix_Sen140.csv\n",
      "Created ./results/FinancialPhraseBank_DSAll_k-folds/fold=4/classification_report_Sen140.csv\n"
     ]
    }
   ],
   "source": [
    "lexicons = [(sentiment140_polarity, 'Sen140'), (socal_polarity, 'SO-CAL'), (mpqa_polarity, 'MPQA'), \\\n",
    "            (afinn_polarity, 'AFINN'),(sentistrength_polarity, 'SentiStrength')]\n",
    "\n",
    "for train_filepath in train_filepaths:\n",
    "    test_filepath = train_filepath.replace('train.csv', 'test.csv')\n",
    "\n",
    "    for lexicon_func, lexicon_name in lexicons:\n",
    "        df_filepath = os.path.join(os.path.dirname(test_filepath).replace('data','results'), 'predictions_{}.csv')\n",
    "        conf_filepath = os.path.join(os.path.dirname(test_filepath).replace('data','results'), 'confusion_matrix_{}.csv')\n",
    "        report_filepath = os.path.join(os.path.dirname(test_filepath).replace('data','results'), 'classification_report_{}.csv')\n",
    "\n",
    "        df = pd.read_csv(test_filepath)     \n",
    "        df['prediction'] = df['headline'].progress_apply(lambda x: lexicon_func(x))\n",
    "        \n",
    "        df['correct'] = df.apply(lambda x: x['label']==x['prediction'], axis=1)\n",
    "        df.to_csv(df_filepath.format(lexicon_name), index=False)\n",
    "\n",
    "        labels, preds = df.label, df.prediction\n",
    "        create_confusion_matrix(labels, preds, conf_filepath.format(lexicon_name))\n",
    "        accuracy = len(df[df['correct']==True]) / len(df)\n",
    "        create_classification_report(labels, preds, accuracy, report_filepath.format(lexicon_name))"
   ]
  }
 ],
 "metadata": {
  "kernelspec": {
   "display_name": "torchtext",
   "language": "python",
   "name": "torchtext"
  },
  "language_info": {
   "codemirror_mode": {
    "name": "ipython",
    "version": 3
   },
   "file_extension": ".py",
   "mimetype": "text/x-python",
   "name": "python",
   "nbconvert_exporter": "python",
   "pygments_lexer": "ipython3",
   "version": "3.6.5"
  }
 },
 "nbformat": 4,
 "nbformat_minor": 2
}
