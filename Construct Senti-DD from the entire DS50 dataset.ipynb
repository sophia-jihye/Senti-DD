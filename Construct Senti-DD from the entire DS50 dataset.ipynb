{
 "cells": [
  {
   "cell_type": "code",
   "execution_count": 1,
   "metadata": {},
   "outputs": [],
   "source": [
    "import glob, os, re\n",
    "import pandas as pd\n",
    "from reports import create_confusion_matrix, create_classification_report, average_classification_report, sum_confusion_matrix\n",
    "from lexicons import senti_dd_polarity, lm_polarity, vader_polarity, swn_polarity, textblob_polarity\n",
    "from senti_dd_construction import construct_senti_dd"
   ]
  },
  {
   "cell_type": "code",
   "execution_count": 2,
   "metadata": {},
   "outputs": [],
   "source": [
    "DATA_DIR = './data'\n",
    "FPB_TRAIN_FILEPATHS = glob.glob(os.path.join(DATA_DIR, '*_DS50_*', '*', 'test.csv'))\n",
    "\n",
    "ds50_all_filepath = os.path.join(DATA_DIR, 'DS50_Entire', 'train.csv')\n",
    "if not os.path.exists(os.path.dirname(ds50_all_filepath)): os.makedirs(os.path.dirname(ds50_all_filepath))"
   ]
  },
  {
   "cell_type": "markdown",
   "metadata": {},
   "source": [
    "Construct Senti-DD"
   ]
  },
  {
   "cell_type": "code",
   "execution_count": 3,
   "metadata": {},
   "outputs": [
    {
     "name": "stdout",
     "output_type": "stream",
     "text": [
      "Created ./data/DS50_Entire/train.csv\n"
     ]
    },
    {
     "data": {
      "text/html": [
       "<div>\n",
       "<style scoped>\n",
       "    .dataframe tbody tr th:only-of-type {\n",
       "        vertical-align: middle;\n",
       "    }\n",
       "\n",
       "    .dataframe tbody tr th {\n",
       "        vertical-align: top;\n",
       "    }\n",
       "\n",
       "    .dataframe thead th {\n",
       "        text-align: right;\n",
       "    }\n",
       "</style>\n",
       "<table border=\"1\" class=\"dataframe\">\n",
       "  <thead>\n",
       "    <tr style=\"text-align: right;\">\n",
       "      <th></th>\n",
       "      <th>headline</th>\n",
       "      <th>label</th>\n",
       "    </tr>\n",
       "  </thead>\n",
       "  <tbody>\n",
       "    <tr>\n",
       "      <th>0</th>\n",
       "      <td>the works will include the laying of natural s...</td>\n",
       "      <td>neutral</td>\n",
       "    </tr>\n",
       "    <tr>\n",
       "      <th>1</th>\n",
       "      <td>we offer our clients integrated management con...</td>\n",
       "      <td>neutral</td>\n",
       "    </tr>\n",
       "    <tr>\n",
       "      <th>2</th>\n",
       "      <td>in 2009 lee &amp; man had a combined annual produc...</td>\n",
       "      <td>neutral</td>\n",
       "    </tr>\n",
       "    <tr>\n",
       "      <th>3</th>\n",
       "      <td>also westpac is to issue a benchmark 18 month ...</td>\n",
       "      <td>neutral</td>\n",
       "    </tr>\n",
       "    <tr>\n",
       "      <th>4</th>\n",
       "      <td>samsung currently occupies third place and los...</td>\n",
       "      <td>negative</td>\n",
       "    </tr>\n",
       "    <tr>\n",
       "      <th>...</th>\n",
       "      <td>...</td>\n",
       "      <td>...</td>\n",
       "    </tr>\n",
       "    <tr>\n",
       "      <th>960</th>\n",
       "      <td>kai tulonen chief technology officer sysopen d...</td>\n",
       "      <td>positive</td>\n",
       "    </tr>\n",
       "    <tr>\n",
       "      <th>961</th>\n",
       "      <td>the three year turn around program is expected...</td>\n",
       "      <td>positive</td>\n",
       "    </tr>\n",
       "    <tr>\n",
       "      <th>962</th>\n",
       "      <td>the mill has long traditions and holds an esta...</td>\n",
       "      <td>positive</td>\n",
       "    </tr>\n",
       "    <tr>\n",
       "      <th>963</th>\n",
       "      <td>key reasons to read this report : report conta...</td>\n",
       "      <td>neutral</td>\n",
       "    </tr>\n",
       "    <tr>\n",
       "      <th>964</th>\n",
       "      <td>gsk announced in november 2008 that it would c...</td>\n",
       "      <td>negative</td>\n",
       "    </tr>\n",
       "  </tbody>\n",
       "</table>\n",
       "<p>4835 rows × 2 columns</p>\n",
       "</div>"
      ],
      "text/plain": [
       "                                              headline     label\n",
       "0    the works will include the laying of natural s...   neutral\n",
       "1    we offer our clients integrated management con...   neutral\n",
       "2    in 2009 lee & man had a combined annual produc...   neutral\n",
       "3    also westpac is to issue a benchmark 18 month ...   neutral\n",
       "4    samsung currently occupies third place and los...  negative\n",
       "..                                                 ...       ...\n",
       "960  kai tulonen chief technology officer sysopen d...  positive\n",
       "961  the three year turn around program is expected...  positive\n",
       "962  the mill has long traditions and holds an esta...  positive\n",
       "963  key reasons to read this report : report conta...   neutral\n",
       "964  gsk announced in november 2008 that it would c...  negative\n",
       "\n",
       "[4835 rows x 2 columns]"
      ]
     },
     "execution_count": 3,
     "metadata": {},
     "output_type": "execute_result"
    }
   ],
   "source": [
    "dfs = []\n",
    "for filepath in FPB_TRAIN_FILEPATHS:\n",
    "    dfs.append(pd.read_csv(filepath))\n",
    "df = pd.concat(dfs)\n",
    "df.to_csv(ds50_all_filepath, index=False)\n",
    "print('Created {}'.format(ds50_all_filepath))\n",
    "df"
   ]
  },
  {
   "cell_type": "code",
   "execution_count": 4,
   "metadata": {},
   "outputs": [
    {
     "name": "stdout",
     "output_type": "stream",
     "text": [
      "Processing ./data/DS50_Entire/train.csv..\n",
      "Created ./data/DS50_Entire/direction_dependent_entities.csv\n",
      "Created ./data/DS50_Entire/Senti-DD.csv\n"
     ]
    }
   ],
   "source": [
    "train_filepath = ds50_all_filepath\n",
    "\n",
    "print('Processing {}..'.format(train_filepath))\n",
    "dd_filepath = os.path.join(os.path.dirname(train_filepath), 'direction_dependent_entities.csv')\n",
    "senti_dd_filepath = os.path.join(os.path.dirname(train_filepath), 'Senti-DD.csv')\n",
    "construct_senti_dd(train_filepath, dd_filepath, senti_dd_filepath)"
   ]
  },
  {
   "cell_type": "code",
   "execution_count": 5,
   "metadata": {},
   "outputs": [
    {
     "name": "stdout",
     "output_type": "stream",
     "text": [
      "proportional 73\n",
      "inversely_proportional 7\n"
     ]
    },
    {
     "data": {
      "text/html": [
       "<div>\n",
       "<style scoped>\n",
       "    .dataframe tbody tr th:only-of-type {\n",
       "        vertical-align: middle;\n",
       "    }\n",
       "\n",
       "    .dataframe tbody tr th {\n",
       "        vertical-align: top;\n",
       "    }\n",
       "\n",
       "    .dataframe thead th {\n",
       "        text-align: right;\n",
       "    }\n",
       "</style>\n",
       "<table border=\"1\" class=\"dataframe\">\n",
       "  <thead>\n",
       "    <tr style=\"text-align: right;\">\n",
       "      <th></th>\n",
       "      <th>direction_dependency</th>\n",
       "      <th>entity</th>\n",
       "      <th>score</th>\n",
       "    </tr>\n",
       "  </thead>\n",
       "  <tbody>\n",
       "    <tr>\n",
       "      <th>0</th>\n",
       "      <td>proportional</td>\n",
       "      <td>quarter</td>\n",
       "      <td>1.029167</td>\n",
       "    </tr>\n",
       "    <tr>\n",
       "      <th>1</th>\n",
       "      <td>proportional</td>\n",
       "      <td>margin</td>\n",
       "      <td>1.040000</td>\n",
       "    </tr>\n",
       "    <tr>\n",
       "      <th>2</th>\n",
       "      <td>proportional</td>\n",
       "      <td>volume</td>\n",
       "      <td>1.040000</td>\n",
       "    </tr>\n",
       "    <tr>\n",
       "      <th>3</th>\n",
       "      <td>proportional</td>\n",
       "      <td>passenger</td>\n",
       "      <td>1.040000</td>\n",
       "    </tr>\n",
       "    <tr>\n",
       "      <th>4</th>\n",
       "      <td>inversely_proportional</td>\n",
       "      <td>cost</td>\n",
       "      <td>-13.000000</td>\n",
       "    </tr>\n",
       "    <tr>\n",
       "      <th>...</th>\n",
       "      <td>...</td>\n",
       "      <td>...</td>\n",
       "      <td>...</td>\n",
       "    </tr>\n",
       "    <tr>\n",
       "      <th>75</th>\n",
       "      <td>proportional</td>\n",
       "      <td>acquisition</td>\n",
       "      <td>1.040000</td>\n",
       "    </tr>\n",
       "    <tr>\n",
       "      <th>76</th>\n",
       "      <td>inversely_proportional</td>\n",
       "      <td>traffic</td>\n",
       "      <td>-3.250000</td>\n",
       "    </tr>\n",
       "    <tr>\n",
       "      <th>77</th>\n",
       "      <td>proportional</td>\n",
       "      <td>beer</td>\n",
       "      <td>1.040000</td>\n",
       "    </tr>\n",
       "    <tr>\n",
       "      <th>78</th>\n",
       "      <td>proportional</td>\n",
       "      <td>growth</td>\n",
       "      <td>1.040000</td>\n",
       "    </tr>\n",
       "    <tr>\n",
       "      <th>79</th>\n",
       "      <td>proportional</td>\n",
       "      <td>liter</td>\n",
       "      <td>1.040000</td>\n",
       "    </tr>\n",
       "  </tbody>\n",
       "</table>\n",
       "<p>80 rows × 3 columns</p>\n",
       "</div>"
      ],
      "text/plain": [
       "      direction_dependency       entity      score\n",
       "0             proportional      quarter   1.029167\n",
       "1             proportional       margin   1.040000\n",
       "2             proportional       volume   1.040000\n",
       "3             proportional    passenger   1.040000\n",
       "4   inversely_proportional         cost -13.000000\n",
       "..                     ...          ...        ...\n",
       "75            proportional  acquisition   1.040000\n",
       "76  inversely_proportional      traffic  -3.250000\n",
       "77            proportional         beer   1.040000\n",
       "78            proportional       growth   1.040000\n",
       "79            proportional        liter   1.040000\n",
       "\n",
       "[80 rows x 3 columns]"
      ]
     },
     "execution_count": 5,
     "metadata": {},
     "output_type": "execute_result"
    }
   ],
   "source": [
    "dd = pd.read_csv(dd_filepath)\n",
    "\n",
    "for dependency in ['proportional', 'inversely_proportional']:\n",
    "    print(dependency, len(dd[dd['direction_dependency']==dependency]))\n",
    "\n",
    "dd"
   ]
  }
 ],
 "metadata": {
  "kernelspec": {
   "display_name": "torchtext",
   "language": "python",
   "name": "torchtext"
  },
  "language_info": {
   "codemirror_mode": {
    "name": "ipython",
    "version": 3
   },
   "file_extension": ".py",
   "mimetype": "text/x-python",
   "name": "python",
   "nbconvert_exporter": "python",
   "pygments_lexer": "ipython3",
   "version": "3.6.5"
  }
 },
 "nbformat": 4,
 "nbformat_minor": 2
}
